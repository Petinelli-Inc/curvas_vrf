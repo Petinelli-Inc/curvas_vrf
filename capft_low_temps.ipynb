{
  "nbformat": 4,
  "nbformat_minor": 0,
  "metadata": {
    "colab": {
      "name": "capft@low_temps.ipynb",
      "provenance": [],
      "collapsed_sections": [],
      "authorship_tag": "ABX9TyOj1oDspKCp++99fZQ3k4Cv",
      "include_colab_link": true
    },
    "kernelspec": {
      "name": "python3",
      "display_name": "Python 3"
    },
    "language_info": {
      "name": "python"
    }
  },
  "cells": [
    {
      "cell_type": "markdown",
      "metadata": {
        "id": "view-in-github",
        "colab_type": "text"
      },
      "source": [
        "<a href=\"https://colab.research.google.com/github/Petinelli-Inc/curvas_vrf/blob/main/capft_low_temps.ipynb\" target=\"_parent\"><img src=\"https://colab.research.google.com/assets/colab-badge.svg\" alt=\"Open In Colab\"/></a>"
      ]
    },
    {
      "cell_type": "code",
      "execution_count": 1,
      "metadata": {
        "id": "iAKysoQ59wNG"
      },
      "outputs": [],
      "source": [
        "import pandas as pd\n",
        "import numpy as np\n",
        "import matplotlib.pyplot as plt\n",
        "from sklearn import linear_model"
      ]
    },
    {
      "cell_type": "code",
      "source": [
        "import statsmodels.api as sm\n",
        "import statsmodels.formula.api as smf"
      ],
      "metadata": {
        "id": "cQqB064xMhd_",
        "colab": {
          "base_uri": "https://localhost:8080/"
        },
        "outputId": "2f3ddb98-a268-44dc-cdd5-8fbc5959c568"
      },
      "execution_count": 2,
      "outputs": [
        {
          "output_type": "stream",
          "name": "stderr",
          "text": [
            "/usr/local/lib/python3.7/dist-packages/statsmodels/tools/_testing.py:19: FutureWarning: pandas.util.testing is deprecated. Use the functions in the public API at pandas.testing instead.\n",
            "  import pandas.util.testing as tm\n"
          ]
        }
      ]
    },
    {
      "cell_type": "markdown",
      "source": [
        "# Leitura e interpretação dos dados"
      ],
      "metadata": {
        "id": "Pr2rBUqfyRio"
      }
    },
    {
      "cell_type": "code",
      "source": [
        "dados = pd.read_excel(\"teste.xlsx\", index_col=0)"
      ],
      "metadata": {
        "id": "G--YP2-Aom42"
      },
      "execution_count": 3,
      "outputs": []
    },
    {
      "cell_type": "code",
      "source": [
        "\"\"\"\n",
        "Modelo: RMXYQ16AYL\n",
        "\n",
        "\"\"\"\n",
        "cap_nom = 45\n",
        "pot_nom = 10.6\n",
        "cop_nom = cap_nom/pot_nom"
      ],
      "metadata": {
        "id": "lwnkM3GN3FN5"
      },
      "execution_count": 4,
      "outputs": []
    },
    {
      "cell_type": "markdown",
      "source": [
        "# Manipulação dos dados"
      ],
      "metadata": {
        "id": "j7pRZtJSylAJ"
      }
    },
    {
      "cell_type": "code",
      "source": [
        "df_tc = dados[[col for col in dados.columns if col.startswith(\"TC\")]]\n",
        "df_pi = dados[[col for col in dados.columns if col.startswith(\"PI\")]]"
      ],
      "metadata": {
        "id": "z8qB8x0PxWaD"
      },
      "execution_count": 5,
      "outputs": []
    },
    {
      "cell_type": "code",
      "source": [
        "df_capft = df_tc.copy()\n",
        "\n",
        "df_capft = round(df_capft/cap_nom,4)\n",
        "\n",
        "df_capft = df_capft.rename(columns=lambda s: f'IWB {s[-2:]}°C')"
      ],
      "metadata": {
        "id": "Rr8A-JO3MOrm"
      },
      "execution_count": 6,
      "outputs": []
    },
    {
      "cell_type": "code",
      "source": [
        "df_capft"
      ],
      "metadata": {
        "colab": {
          "base_uri": "https://localhost:8080/",
          "height": 582
        },
        "id": "lW6hYt3KG_AQ",
        "outputId": "e6c04e38-03eb-42c0-e0e8-76385b3bcbff"
      },
      "execution_count": 33,
      "outputs": [
        {
          "output_type": "execute_result",
          "data": {
            "text/plain": [
              "          IWB 14°C  IWB 16°C  IWB 18°C  IWB 19°C  IWB 20°C  IWB 22°C  IWB 24°C\n",
              "ODB (°C)                                                                      \n",
              "10          0.8978    1.0467    1.1444    1.1867    1.2267    1.2933    1.2956\n",
              "12          0.8978    1.0356    1.1311    1.1733    1.2111    1.2756    1.2800\n",
              "14          0.8978    1.0244    1.1178    1.1600    1.1978    1.2422    1.2578\n",
              "16          0.8978    1.0133    1.1044    1.1444    1.1822    1.2133    1.2422\n",
              "18          0.8933    1.0000    1.0933    1.1333    1.1667    1.1978    1.2244\n",
              "20          0.8822    0.9911    1.0778    1.1178    1.1511    1.1800    1.2044\n",
              "21          0.8778    0.9844    1.0733    1.1111    1.1444    1.1711    1.1978\n",
              "23          0.8689    0.9711    1.0578    1.0956    1.1289    1.1511    1.1756\n",
              "25          0.8578    0.9600    1.0422    1.0800    1.1111    1.1311    1.1578\n",
              "27          0.8489    0.9489    1.0289    1.0644    1.0956    1.1133    1.1422\n",
              "29          0.8378    0.9356    1.0156    1.0511    1.0667    1.0956    1.1200\n",
              "31          0.8244    0.9244    1.0022    1.0333    1.0511    1.0756    1.1044\n",
              "33          0.8156    0.9089    0.9867    1.0178    1.0333    1.0600    1.0867\n",
              "35          0.8044    0.8978    0.9689    1.0000    1.0133    1.0400    1.0667\n",
              "37          0.7933    0.8844    0.9533    0.9844    0.9978    1.0222    1.0489\n",
              "39          0.7822    0.8711    0.9378    0.9644    0.9778    1.0044    1.0333"
            ],
            "text/html": [
              "\n",
              "  <div id=\"df-080e6167-94f8-4b86-acbd-2f7d552348e9\">\n",
              "    <div class=\"colab-df-container\">\n",
              "      <div>\n",
              "<style scoped>\n",
              "    .dataframe tbody tr th:only-of-type {\n",
              "        vertical-align: middle;\n",
              "    }\n",
              "\n",
              "    .dataframe tbody tr th {\n",
              "        vertical-align: top;\n",
              "    }\n",
              "\n",
              "    .dataframe thead th {\n",
              "        text-align: right;\n",
              "    }\n",
              "</style>\n",
              "<table border=\"1\" class=\"dataframe\">\n",
              "  <thead>\n",
              "    <tr style=\"text-align: right;\">\n",
              "      <th></th>\n",
              "      <th>IWB 14°C</th>\n",
              "      <th>IWB 16°C</th>\n",
              "      <th>IWB 18°C</th>\n",
              "      <th>IWB 19°C</th>\n",
              "      <th>IWB 20°C</th>\n",
              "      <th>IWB 22°C</th>\n",
              "      <th>IWB 24°C</th>\n",
              "    </tr>\n",
              "    <tr>\n",
              "      <th>ODB (°C)</th>\n",
              "      <th></th>\n",
              "      <th></th>\n",
              "      <th></th>\n",
              "      <th></th>\n",
              "      <th></th>\n",
              "      <th></th>\n",
              "      <th></th>\n",
              "    </tr>\n",
              "  </thead>\n",
              "  <tbody>\n",
              "    <tr>\n",
              "      <th>10</th>\n",
              "      <td>0.8978</td>\n",
              "      <td>1.0467</td>\n",
              "      <td>1.1444</td>\n",
              "      <td>1.1867</td>\n",
              "      <td>1.2267</td>\n",
              "      <td>1.2933</td>\n",
              "      <td>1.2956</td>\n",
              "    </tr>\n",
              "    <tr>\n",
              "      <th>12</th>\n",
              "      <td>0.8978</td>\n",
              "      <td>1.0356</td>\n",
              "      <td>1.1311</td>\n",
              "      <td>1.1733</td>\n",
              "      <td>1.2111</td>\n",
              "      <td>1.2756</td>\n",
              "      <td>1.2800</td>\n",
              "    </tr>\n",
              "    <tr>\n",
              "      <th>14</th>\n",
              "      <td>0.8978</td>\n",
              "      <td>1.0244</td>\n",
              "      <td>1.1178</td>\n",
              "      <td>1.1600</td>\n",
              "      <td>1.1978</td>\n",
              "      <td>1.2422</td>\n",
              "      <td>1.2578</td>\n",
              "    </tr>\n",
              "    <tr>\n",
              "      <th>16</th>\n",
              "      <td>0.8978</td>\n",
              "      <td>1.0133</td>\n",
              "      <td>1.1044</td>\n",
              "      <td>1.1444</td>\n",
              "      <td>1.1822</td>\n",
              "      <td>1.2133</td>\n",
              "      <td>1.2422</td>\n",
              "    </tr>\n",
              "    <tr>\n",
              "      <th>18</th>\n",
              "      <td>0.8933</td>\n",
              "      <td>1.0000</td>\n",
              "      <td>1.0933</td>\n",
              "      <td>1.1333</td>\n",
              "      <td>1.1667</td>\n",
              "      <td>1.1978</td>\n",
              "      <td>1.2244</td>\n",
              "    </tr>\n",
              "    <tr>\n",
              "      <th>20</th>\n",
              "      <td>0.8822</td>\n",
              "      <td>0.9911</td>\n",
              "      <td>1.0778</td>\n",
              "      <td>1.1178</td>\n",
              "      <td>1.1511</td>\n",
              "      <td>1.1800</td>\n",
              "      <td>1.2044</td>\n",
              "    </tr>\n",
              "    <tr>\n",
              "      <th>21</th>\n",
              "      <td>0.8778</td>\n",
              "      <td>0.9844</td>\n",
              "      <td>1.0733</td>\n",
              "      <td>1.1111</td>\n",
              "      <td>1.1444</td>\n",
              "      <td>1.1711</td>\n",
              "      <td>1.1978</td>\n",
              "    </tr>\n",
              "    <tr>\n",
              "      <th>23</th>\n",
              "      <td>0.8689</td>\n",
              "      <td>0.9711</td>\n",
              "      <td>1.0578</td>\n",
              "      <td>1.0956</td>\n",
              "      <td>1.1289</td>\n",
              "      <td>1.1511</td>\n",
              "      <td>1.1756</td>\n",
              "    </tr>\n",
              "    <tr>\n",
              "      <th>25</th>\n",
              "      <td>0.8578</td>\n",
              "      <td>0.9600</td>\n",
              "      <td>1.0422</td>\n",
              "      <td>1.0800</td>\n",
              "      <td>1.1111</td>\n",
              "      <td>1.1311</td>\n",
              "      <td>1.1578</td>\n",
              "    </tr>\n",
              "    <tr>\n",
              "      <th>27</th>\n",
              "      <td>0.8489</td>\n",
              "      <td>0.9489</td>\n",
              "      <td>1.0289</td>\n",
              "      <td>1.0644</td>\n",
              "      <td>1.0956</td>\n",
              "      <td>1.1133</td>\n",
              "      <td>1.1422</td>\n",
              "    </tr>\n",
              "    <tr>\n",
              "      <th>29</th>\n",
              "      <td>0.8378</td>\n",
              "      <td>0.9356</td>\n",
              "      <td>1.0156</td>\n",
              "      <td>1.0511</td>\n",
              "      <td>1.0667</td>\n",
              "      <td>1.0956</td>\n",
              "      <td>1.1200</td>\n",
              "    </tr>\n",
              "    <tr>\n",
              "      <th>31</th>\n",
              "      <td>0.8244</td>\n",
              "      <td>0.9244</td>\n",
              "      <td>1.0022</td>\n",
              "      <td>1.0333</td>\n",
              "      <td>1.0511</td>\n",
              "      <td>1.0756</td>\n",
              "      <td>1.1044</td>\n",
              "    </tr>\n",
              "    <tr>\n",
              "      <th>33</th>\n",
              "      <td>0.8156</td>\n",
              "      <td>0.9089</td>\n",
              "      <td>0.9867</td>\n",
              "      <td>1.0178</td>\n",
              "      <td>1.0333</td>\n",
              "      <td>1.0600</td>\n",
              "      <td>1.0867</td>\n",
              "    </tr>\n",
              "    <tr>\n",
              "      <th>35</th>\n",
              "      <td>0.8044</td>\n",
              "      <td>0.8978</td>\n",
              "      <td>0.9689</td>\n",
              "      <td>1.0000</td>\n",
              "      <td>1.0133</td>\n",
              "      <td>1.0400</td>\n",
              "      <td>1.0667</td>\n",
              "    </tr>\n",
              "    <tr>\n",
              "      <th>37</th>\n",
              "      <td>0.7933</td>\n",
              "      <td>0.8844</td>\n",
              "      <td>0.9533</td>\n",
              "      <td>0.9844</td>\n",
              "      <td>0.9978</td>\n",
              "      <td>1.0222</td>\n",
              "      <td>1.0489</td>\n",
              "    </tr>\n",
              "    <tr>\n",
              "      <th>39</th>\n",
              "      <td>0.7822</td>\n",
              "      <td>0.8711</td>\n",
              "      <td>0.9378</td>\n",
              "      <td>0.9644</td>\n",
              "      <td>0.9778</td>\n",
              "      <td>1.0044</td>\n",
              "      <td>1.0333</td>\n",
              "    </tr>\n",
              "  </tbody>\n",
              "</table>\n",
              "</div>\n",
              "      <button class=\"colab-df-convert\" onclick=\"convertToInteractive('df-080e6167-94f8-4b86-acbd-2f7d552348e9')\"\n",
              "              title=\"Convert this dataframe to an interactive table.\"\n",
              "              style=\"display:none;\">\n",
              "        \n",
              "  <svg xmlns=\"http://www.w3.org/2000/svg\" height=\"24px\"viewBox=\"0 0 24 24\"\n",
              "       width=\"24px\">\n",
              "    <path d=\"M0 0h24v24H0V0z\" fill=\"none\"/>\n",
              "    <path d=\"M18.56 5.44l.94 2.06.94-2.06 2.06-.94-2.06-.94-.94-2.06-.94 2.06-2.06.94zm-11 1L8.5 8.5l.94-2.06 2.06-.94-2.06-.94L8.5 2.5l-.94 2.06-2.06.94zm10 10l.94 2.06.94-2.06 2.06-.94-2.06-.94-.94-2.06-.94 2.06-2.06.94z\"/><path d=\"M17.41 7.96l-1.37-1.37c-.4-.4-.92-.59-1.43-.59-.52 0-1.04.2-1.43.59L10.3 9.45l-7.72 7.72c-.78.78-.78 2.05 0 2.83L4 21.41c.39.39.9.59 1.41.59.51 0 1.02-.2 1.41-.59l7.78-7.78 2.81-2.81c.8-.78.8-2.07 0-2.86zM5.41 20L4 18.59l7.72-7.72 1.47 1.35L5.41 20z\"/>\n",
              "  </svg>\n",
              "      </button>\n",
              "      \n",
              "  <style>\n",
              "    .colab-df-container {\n",
              "      display:flex;\n",
              "      flex-wrap:wrap;\n",
              "      gap: 12px;\n",
              "    }\n",
              "\n",
              "    .colab-df-convert {\n",
              "      background-color: #E8F0FE;\n",
              "      border: none;\n",
              "      border-radius: 50%;\n",
              "      cursor: pointer;\n",
              "      display: none;\n",
              "      fill: #1967D2;\n",
              "      height: 32px;\n",
              "      padding: 0 0 0 0;\n",
              "      width: 32px;\n",
              "    }\n",
              "\n",
              "    .colab-df-convert:hover {\n",
              "      background-color: #E2EBFA;\n",
              "      box-shadow: 0px 1px 2px rgba(60, 64, 67, 0.3), 0px 1px 3px 1px rgba(60, 64, 67, 0.15);\n",
              "      fill: #174EA6;\n",
              "    }\n",
              "\n",
              "    [theme=dark] .colab-df-convert {\n",
              "      background-color: #3B4455;\n",
              "      fill: #D2E3FC;\n",
              "    }\n",
              "\n",
              "    [theme=dark] .colab-df-convert:hover {\n",
              "      background-color: #434B5C;\n",
              "      box-shadow: 0px 1px 3px 1px rgba(0, 0, 0, 0.15);\n",
              "      filter: drop-shadow(0px 1px 2px rgba(0, 0, 0, 0.3));\n",
              "      fill: #FFFFFF;\n",
              "    }\n",
              "  </style>\n",
              "\n",
              "      <script>\n",
              "        const buttonEl =\n",
              "          document.querySelector('#df-080e6167-94f8-4b86-acbd-2f7d552348e9 button.colab-df-convert');\n",
              "        buttonEl.style.display =\n",
              "          google.colab.kernel.accessAllowed ? 'block' : 'none';\n",
              "\n",
              "        async function convertToInteractive(key) {\n",
              "          const element = document.querySelector('#df-080e6167-94f8-4b86-acbd-2f7d552348e9');\n",
              "          const dataTable =\n",
              "            await google.colab.kernel.invokeFunction('convertToInteractive',\n",
              "                                                     [key], {});\n",
              "          if (!dataTable) return;\n",
              "\n",
              "          const docLinkHtml = 'Like what you see? Visit the ' +\n",
              "            '<a target=\"_blank\" href=https://colab.research.google.com/notebooks/data_table.ipynb>data table notebook</a>'\n",
              "            + ' to learn more about interactive tables.';\n",
              "          element.innerHTML = '';\n",
              "          dataTable['output_type'] = 'display_data';\n",
              "          await google.colab.output.renderOutput(dataTable, element);\n",
              "          const docLink = document.createElement('div');\n",
              "          docLink.innerHTML = docLinkHtml;\n",
              "          element.appendChild(docLink);\n",
              "        }\n",
              "      </script>\n",
              "    </div>\n",
              "  </div>\n",
              "  "
            ]
          },
          "metadata": {},
          "execution_count": 33
        }
      ]
    },
    {
      "cell_type": "code",
      "source": [
        "ref = df_capft.iloc[0,:].tolist()\n",
        "col_names = df_capft.columns.tolist()\n",
        "\n",
        "#for name in range(len(col_names)):\n",
        "  #col_names[name] = col_names[name][-2:]\n",
        "\n",
        "odb_index = df_capft.index.tolist()\n",
        "\n",
        "inflex = {}\n",
        "limites = {}\n",
        "low = []\n",
        "odb = []\n",
        "iwb = []\n",
        "\n",
        "for col in range(len(df_capft.columns)):\n",
        "  for i in range(len(odb_index)):\n",
        "    if df_capft.iat[i, col] != ref[col]:\n",
        "      inflex[col_names[col]] = odb_index[i-1]\n",
        "      limites[col_names[col]] = df_capft.iat[i-1, col]\n",
        "      break\n",
        "    elif df_capft.iat[i, col] == ref[col]:\n",
        "      low.append(ref[col])\n",
        "      iwb.append(int(col_names[col][4:6]))\n",
        "      odb.append(odb_index[i])\n",
        "      continue\n"
      ],
      "metadata": {
        "id": "xvPmIxOnh8ND"
      },
      "execution_count": 7,
      "outputs": []
    },
    {
      "cell_type": "code",
      "source": [
        "odb2 = []\n",
        "iwb2 = []\n",
        "iwbodb = []\n",
        "\n",
        "odb2.clear()\n",
        "iwb2.clear()\n",
        "\n",
        "\n",
        "for n in range(len(odb)):\n",
        "  odb_2 = odb[n]*odb[n]\n",
        "  odb2.append(odb_2)\n",
        "  \n",
        "  iwb_2 = iwb[n]*iwb[n]\n",
        "  iwb2.append(iwb_2)\n",
        "\n",
        "  prod = odb[n]*iwb[n]\n",
        "  iwbodb.append(prod)\n"
      ],
      "metadata": {
        "id": "kgEmgvkEEfCK"
      },
      "execution_count": 8,
      "outputs": []
    },
    {
      "cell_type": "code",
      "source": [
        "df_capft.plot(yticks = np.arange(0.7,1.3,0.05), xticks = np.arange(10,40,2),\n",
        "              ylabel = 'CAP_FT', figsize=(12, 8), grid = True)"
      ],
      "metadata": {
        "colab": {
          "base_uri": "https://localhost:8080/",
          "height": 514
        },
        "id": "7mtfA0D82WSX",
        "outputId": "9f01acb2-d8d8-4f78-bc24-cdfe5f96f2a7"
      },
      "execution_count": 9,
      "outputs": [
        {
          "output_type": "execute_result",
          "data": {
            "text/plain": [
              "<matplotlib.axes._subplots.AxesSubplot at 0x7f6928969a90>"
            ]
          },
          "metadata": {},
          "execution_count": 9
        },
        {
          "output_type": "display_data",
          "data": {
            "text/plain": [
              "<Figure size 864x576 with 1 Axes>"
            ],
            "image/png": "[encoded data removed]"
          },
          "metadata": {
            "needs_background": "light"
          }
        }
      ]
    },
    {
      "cell_type": "code",
      "source": [
        "vet1 = np.ones(10, dtype=int)\n",
        "\n",
        "x = pd.DataFrame({\n",
        "    'IWB': iwb,\n",
        "    'IWB2': iwb2,\n",
        "    'ODB': odb,\n",
        "    'ODB2': odb2,\n",
        "    'IWB*ODB': iwbodb\n",
        "})\n",
        "\n",
        "y = pd.DataFrame(low)\n",
        "\n"
      ],
      "metadata": {
        "id": "fIBw7-B1QVnZ"
      },
      "execution_count": 10,
      "outputs": []
    },
    {
      "cell_type": "code",
      "source": [
        "x_mat = x.to_numpy()\n",
        "y_mat = y.to_numpy()\n",
        "x_t = x_mat.transpose()\n",
        "\n",
        "prod = np.matmul(x_t, x_mat)\n",
        "\n",
        "inv = np.linalg.pinv(prod)\n",
        "\n",
        "coef = np.matmul(np.matmul(inv, x_t), y_mat)\n",
        "\n",
        "coef = np.concatenate(coef)\n",
        "\n",
        "coef = coef.tolist()\n",
        "\n",
        "coef = [round(n,4) for n in coef]\n"
      ],
      "metadata": {
        "id": "NQSimLEEed4p"
      },
      "execution_count": 31,
      "outputs": []
    },
    {
      "cell_type": "code",
      "source": [
        "regr = linear_model.LinearRegression()\n",
        "regr.fit(x, y)"
      ],
      "metadata": {
        "colab": {
          "base_uri": "https://localhost:8080/"
        },
        "id": "F8zI8M98YduC",
        "outputId": "fedd71c4-4b23-484e-df9c-a35eabe162d6"
      },
      "execution_count": 12,
      "outputs": [
        {
          "output_type": "execute_result",
          "data": {
            "text/plain": [
              "LinearRegression()"
            ]
          },
          "metadata": {},
          "execution_count": 12
        }
      ]
    },
    {
      "cell_type": "code",
      "source": [
        "print('Intercept: \\n', regr.intercept_)\n",
        "print('Coefficients: \\n', regr.coef_)\n"
      ],
      "metadata": {
        "colab": {
          "base_uri": "https://localhost:8080/"
        },
        "id": "hGhXPvfUcPTK",
        "outputId": "a853bf5d-a7ef-4d43-a41c-76a5f155d2ea"
      },
      "execution_count": 13,
      "outputs": [
        {
          "output_type": "stream",
          "name": "stdout",
          "text": [
            "Intercept: \n",
            " [-0.05553301]\n",
            "Coefficients: \n",
            " [[ 1.21532865e-01 -3.70755180e-03 -8.63840549e-02  1.07665394e-04\n",
            "   5.95188269e-03]]\n"
          ]
        }
      ]
    },
    {
      "cell_type": "code",
      "source": [
        "regr.coef_[0]"
      ],
      "metadata": {
        "colab": {
          "base_uri": "https://localhost:8080/"
        },
        "id": "lFJKa8JI4O_n",
        "outputId": "26a2c5a2-d2a4-4fd2-a44f-eb6fcdf80efb"
      },
      "execution_count": 14,
      "outputs": [
        {
          "output_type": "execute_result",
          "data": {
            "text/plain": [
              "array([ 1.21532865e-01, -3.70755180e-03, -8.63840549e-02,  1.07665394e-04,\n",
              "        5.95188269e-03])"
            ]
          },
          "metadata": {},
          "execution_count": 14
        }
      ]
    },
    {
      "cell_type": "code",
      "source": [
        "x = sm.add_constant(x) # adding a constant\n",
        " \n",
        "model = sm.OLS(y, x).fit()\n",
        "predictions = model.predict(x) \n",
        " \n",
        "print_model = model.summary()\n",
        "print(print_model)"
      ],
      "metadata": {
        "colab": {
          "base_uri": "https://localhost:8080/"
        },
        "id": "WXkjcrDANhJD",
        "outputId": "963563ad-8096-4b1b-994f-51e21d151675"
      },
      "execution_count": 15,
      "outputs": [
        {
          "output_type": "stream",
          "name": "stdout",
          "text": [
            "                            OLS Regression Results                            \n",
            "==============================================================================\n",
            "Dep. Variable:                      0   R-squared:                       0.999\n",
            "Model:                            OLS   Adj. R-squared:                  0.998\n",
            "Method:                 Least Squares   F-statistic:                     982.7\n",
            "Date:                Wed, 03 Aug 2022   Prob (F-statistic):           2.01e-07\n",
            "Time:                        17:32:06   Log-Likelihood:                 37.346\n",
            "No. Observations:                  10   AIC:                            -64.69\n",
            "Df Residuals:                       5   BIC:                            -63.18\n",
            "Df Model:                           4                                         \n",
            "Covariance Type:            nonrobust                                         \n",
            "==============================================================================\n",
            "                 coef    std err          t      P>|t|      [0.025      0.975]\n",
            "------------------------------------------------------------------------------\n",
            "const         -0.0008      0.001     -1.026      0.352      -0.003       0.001\n",
            "IWB            0.1176      0.011     10.772      0.000       0.090       0.146\n",
            "IWB2          -0.0037      0.000    -12.219      0.000      -0.004      -0.003\n",
            "ODB           -0.0919      0.012     -7.779      0.001      -0.122      -0.062\n",
            "ODB2           0.0001      0.001      0.108      0.918      -0.002       0.003\n",
            "IWB*ODB        0.0063      0.002      3.949      0.011       0.002       0.010\n",
            "==============================================================================\n",
            "Omnibus:                        5.254   Durbin-Watson:                   2.489\n",
            "Prob(Omnibus):                  0.072   Jarque-Bera (JB):                2.242\n",
            "Skew:                           1.150   Prob(JB):                        0.326\n",
            "Kurtosis:                       3.309   Cond. No.                     5.58e+17\n",
            "==============================================================================\n",
            "\n",
            "Warnings:\n",
            "[1] Standard Errors assume that the covariance matrix of the errors is correctly specified.\n",
            "[2] The smallest eigenvalue is 5.37e-30. This might indicate that there are\n",
            "strong multicollinearity problems or that the design matrix is singular.\n"
          ]
        },
        {
          "output_type": "stream",
          "name": "stderr",
          "text": [
            "/usr/local/lib/python3.7/dist-packages/statsmodels/tsa/tsatools.py:117: FutureWarning: In a future version of pandas all arguments of concat except for the argument 'objs' will be keyword-only\n",
            "  x = pd.concat(x[::order], 1)\n",
            "/usr/local/lib/python3.7/dist-packages/scipy/stats/stats.py:1542: UserWarning: kurtosistest only valid for n>=20 ... continuing anyway, n=10\n",
            "  \"anyway, n=%i\" % int(n))\n"
          ]
        }
      ]
    },
    {
      "cell_type": "code",
      "source": [
        "x"
      ],
      "metadata": {
        "colab": {
          "base_uri": "https://localhost:8080/",
          "height": 363
        },
        "id": "9gv8jmZiNG64",
        "outputId": "bd77086a-0e52-48a7-ba8f-e228a90e5ee7"
      },
      "execution_count": 16,
      "outputs": [
        {
          "output_type": "execute_result",
          "data": {
            "text/plain": [
              "   const  IWB  IWB2  ODB  ODB2  IWB*ODB\n",
              "0    1.0   14   196   10   100      140\n",
              "1    1.0   14   196   12   144      168\n",
              "2    1.0   14   196   14   196      196\n",
              "3    1.0   14   196   16   256      224\n",
              "4    1.0   16   256   10   100      160\n",
              "5    1.0   18   324   10   100      180\n",
              "6    1.0   19   361   10   100      190\n",
              "7    1.0   20   400   10   100      200\n",
              "8    1.0   22   484   10   100      220\n",
              "9    1.0   24   576   10   100      240"
            ],
            "text/html": [
              "\n",
              "  <div id=\"df-df2621ca-18fa-4a8b-ade9-0d42c56b10cc\">\n",
              "    <div class=\"colab-df-container\">\n",
              "      <div>\n",
              "<style scoped>\n",
              "    .dataframe tbody tr th:only-of-type {\n",
              "        vertical-align: middle;\n",
              "    }\n",
              "\n",
              "    .dataframe tbody tr th {\n",
              "        vertical-align: top;\n",
              "    }\n",
              "\n",
              "    .dataframe thead th {\n",
              "        text-align: right;\n",
              "    }\n",
              "</style>\n",
              "<table border=\"1\" class=\"dataframe\">\n",
              "  <thead>\n",
              "    <tr style=\"text-align: right;\">\n",
              "      <th></th>\n",
              "      <th>const</th>\n",
              "      <th>IWB</th>\n",
              "      <th>IWB2</th>\n",
              "      <th>ODB</th>\n",
              "      <th>ODB2</th>\n",
              "      <th>IWB*ODB</th>\n",
              "    </tr>\n",
              "  </thead>\n",
              "  <tbody>\n",
              "    <tr>\n",
              "      <th>0</th>\n",
              "      <td>1.0</td>\n",
              "      <td>14</td>\n",
              "      <td>196</td>\n",
              "      <td>10</td>\n",
              "      <td>100</td>\n",
              "      <td>140</td>\n",
              "    </tr>\n",
              "    <tr>\n",
              "      <th>1</th>\n",
              "      <td>1.0</td>\n",
              "      <td>14</td>\n",
              "      <td>196</td>\n",
              "      <td>12</td>\n",
              "      <td>144</td>\n",
              "      <td>168</td>\n",
              "    </tr>\n",
              "    <tr>\n",
              "      <th>2</th>\n",
              "      <td>1.0</td>\n",
              "      <td>14</td>\n",
              "      <td>196</td>\n",
              "      <td>14</td>\n",
              "      <td>196</td>\n",
              "      <td>196</td>\n",
              "    </tr>\n",
              "    <tr>\n",
              "      <th>3</th>\n",
              "      <td>1.0</td>\n",
              "      <td>14</td>\n",
              "      <td>196</td>\n",
              "      <td>16</td>\n",
              "      <td>256</td>\n",
              "      <td>224</td>\n",
              "    </tr>\n",
              "    <tr>\n",
              "      <th>4</th>\n",
              "      <td>1.0</td>\n",
              "      <td>16</td>\n",
              "      <td>256</td>\n",
              "      <td>10</td>\n",
              "      <td>100</td>\n",
              "      <td>160</td>\n",
              "    </tr>\n",
              "    <tr>\n",
              "      <th>5</th>\n",
              "      <td>1.0</td>\n",
              "      <td>18</td>\n",
              "      <td>324</td>\n",
              "      <td>10</td>\n",
              "      <td>100</td>\n",
              "      <td>180</td>\n",
              "    </tr>\n",
              "    <tr>\n",
              "      <th>6</th>\n",
              "      <td>1.0</td>\n",
              "      <td>19</td>\n",
              "      <td>361</td>\n",
              "      <td>10</td>\n",
              "      <td>100</td>\n",
              "      <td>190</td>\n",
              "    </tr>\n",
              "    <tr>\n",
              "      <th>7</th>\n",
              "      <td>1.0</td>\n",
              "      <td>20</td>\n",
              "      <td>400</td>\n",
              "      <td>10</td>\n",
              "      <td>100</td>\n",
              "      <td>200</td>\n",
              "    </tr>\n",
              "    <tr>\n",
              "      <th>8</th>\n",
              "      <td>1.0</td>\n",
              "      <td>22</td>\n",
              "      <td>484</td>\n",
              "      <td>10</td>\n",
              "      <td>100</td>\n",
              "      <td>220</td>\n",
              "    </tr>\n",
              "    <tr>\n",
              "      <th>9</th>\n",
              "      <td>1.0</td>\n",
              "      <td>24</td>\n",
              "      <td>576</td>\n",
              "      <td>10</td>\n",
              "      <td>100</td>\n",
              "      <td>240</td>\n",
              "    </tr>\n",
              "  </tbody>\n",
              "</table>\n",
              "</div>\n",
              "      <button class=\"colab-df-convert\" onclick=\"convertToInteractive('df-df2621ca-18fa-4a8b-ade9-0d42c56b10cc')\"\n",
              "              title=\"Convert this dataframe to an interactive table.\"\n",
              "              style=\"display:none;\">\n",
              "        \n",
              "  <svg xmlns=\"http://www.w3.org/2000/svg\" height=\"24px\"viewBox=\"0 0 24 24\"\n",
              "       width=\"24px\">\n",
              "    <path d=\"M0 0h24v24H0V0z\" fill=\"none\"/>\n",
              "    <path d=\"M18.56 5.44l.94 2.06.94-2.06 2.06-.94-2.06-.94-.94-2.06-.94 2.06-2.06.94zm-11 1L8.5 8.5l.94-2.06 2.06-.94-2.06-.94L8.5 2.5l-.94 2.06-2.06.94zm10 10l.94 2.06.94-2.06 2.06-.94-2.06-.94-.94-2.06-.94 2.06-2.06.94z\"/><path d=\"M17.41 7.96l-1.37-1.37c-.4-.4-.92-.59-1.43-.59-.52 0-1.04.2-1.43.59L10.3 9.45l-7.72 7.72c-.78.78-.78 2.05 0 2.83L4 21.41c.39.39.9.59 1.41.59.51 0 1.02-.2 1.41-.59l7.78-7.78 2.81-2.81c.8-.78.8-2.07 0-2.86zM5.41 20L4 18.59l7.72-7.72 1.47 1.35L5.41 20z\"/>\n",
              "  </svg>\n",
              "      </button>\n",
              "      \n",
              "  <style>\n",
              "    .colab-df-container {\n",
              "      display:flex;\n",
              "      flex-wrap:wrap;\n",
              "      gap: 12px;\n",
              "    }\n",
              "\n",
              "    .colab-df-convert {\n",
              "      background-color: #E8F0FE;\n",
              "      border: none;\n",
              "      border-radius: 50%;\n",
              "      cursor: pointer;\n",
              "      display: none;\n",
              "      fill: #1967D2;\n",
              "      height: 32px;\n",
              "      padding: 0 0 0 0;\n",
              "      width: 32px;\n",
              "    }\n",
              "\n",
              "    .colab-df-convert:hover {\n",
              "      background-color: #E2EBFA;\n",
              "      box-shadow: 0px 1px 2px rgba(60, 64, 67, 0.3), 0px 1px 3px 1px rgba(60, 64, 67, 0.15);\n",
              "      fill: #174EA6;\n",
              "    }\n",
              "\n",
              "    [theme=dark] .colab-df-convert {\n",
              "      background-color: #3B4455;\n",
              "      fill: #D2E3FC;\n",
              "    }\n",
              "\n",
              "    [theme=dark] .colab-df-convert:hover {\n",
              "      background-color: #434B5C;\n",
              "      box-shadow: 0px 1px 3px 1px rgba(0, 0, 0, 0.15);\n",
              "      filter: drop-shadow(0px 1px 2px rgba(0, 0, 0, 0.3));\n",
              "      fill: #FFFFFF;\n",
              "    }\n",
              "  </style>\n",
              "\n",
              "      <script>\n",
              "        const buttonEl =\n",
              "          document.querySelector('#df-df2621ca-18fa-4a8b-ade9-0d42c56b10cc button.colab-df-convert');\n",
              "        buttonEl.style.display =\n",
              "          google.colab.kernel.accessAllowed ? 'block' : 'none';\n",
              "\n",
              "        async function convertToInteractive(key) {\n",
              "          const element = document.querySelector('#df-df2621ca-18fa-4a8b-ade9-0d42c56b10cc');\n",
              "          const dataTable =\n",
              "            await google.colab.kernel.invokeFunction('convertToInteractive',\n",
              "                                                     [key], {});\n",
              "          if (!dataTable) return;\n",
              "\n",
              "          const docLinkHtml = 'Like what you see? Visit the ' +\n",
              "            '<a target=\"_blank\" href=https://colab.research.google.com/notebooks/data_table.ipynb>data table notebook</a>'\n",
              "            + ' to learn more about interactive tables.';\n",
              "          element.innerHTML = '';\n",
              "          dataTable['output_type'] = 'display_data';\n",
              "          await google.colab.output.renderOutput(dataTable, element);\n",
              "          const docLink = document.createElement('div');\n",
              "          docLink.innerHTML = docLinkHtml;\n",
              "          element.appendChild(docLink);\n",
              "        }\n",
              "      </script>\n",
              "    </div>\n",
              "  </div>\n",
              "  "
            ]
          },
          "metadata": {},
          "execution_count": 16
        }
      ]
    },
    {
      "cell_type": "code",
      "source": [
        "predictions"
      ],
      "metadata": {
        "colab": {
          "base_uri": "https://localhost:8080/"
        },
        "id": "qwFBpt_LMNSj",
        "outputId": "d59c5d68-ec2c-4ddc-8e41-fae7ec497305"
      },
      "execution_count": 17,
      "outputs": [
        {
          "output_type": "execute_result",
          "data": {
            "text/plain": [
              "0    0.899437\n",
              "1    0.898058\n",
              "2    0.897542\n",
              "3    0.897886\n",
              "4    1.039087\n",
              "5    1.149077\n",
              "6    1.192949\n",
              "7    1.229406\n",
              "8    1.280075\n",
              "9    1.301084\n",
              "dtype: float64"
            ]
          },
          "metadata": {},
          "execution_count": 17
        }
      ]
    },
    {
      "cell_type": "code",
      "source": [
        "def biquad(iwb, iwb2, odb, odb2, iwb_odb):\n",
        "  return -0.0008 + 0.1176*iwb + (-0.0037)*iwb2 + (-0.0919)*odb + 0.0001*odb2 + 0.0063*iwb_odb\n",
        "\n",
        "def biquad1(iwb, iwb2, odb, odb2, iwb_odb):\n",
        "  return -0.9197 + 0.1833*iwb + (-0.0037)*iwb2 + (0)*odb + 0.0001*odb2 + (-0.00022)*iwb_odb\n",
        "\n",
        "def biquad2(iwb, iwb2, odb, odb2, iwb_odb):\n",
        "  return -0.0555 + 1.21532865e-01*iwb + (-3.70755180e-03)*iwb2 + (-8.63840549e-02)*odb + 1.07665394e-04*odb2 + (5.95188269e-03)*iwb_odb"
      ],
      "metadata": {
        "id": "ld5tUUb7WFTL"
      },
      "execution_count": 18,
      "outputs": []
    },
    {
      "cell_type": "code",
      "source": [
        "res = []\n",
        "res1 = []\n",
        "res2 = []\n",
        "\n",
        "for i in x.index: \n",
        "  res.append(biquad(x['IWB'][i], x['IWB2'][i], x['ODB'][i], x['ODB2'][i], x['IWB*ODB'][i]))\n",
        "  res1.append(biquad1(x['IWB'][i], x['IWB2'][i], x['ODB'][i], x['ODB2'][i], x['IWB*ODB'][i]))\n",
        "  res2.append(biquad2(x['IWB'][i], x['IWB2'][i], x['ODB'][i], x['ODB2'][i], x['IWB*ODB'][i]))"
      ],
      "metadata": {
        "id": "skX95RMLWjka"
      },
      "execution_count": 19,
      "outputs": []
    },
    {
      "cell_type": "code",
      "source": [
        "#statsmodel\n",
        "soma = 0\n",
        "\n",
        "for i in range(len(res)):\n",
        "  soma = soma + abs((res[i]-low[i])*100/low[i])\n",
        "  print(f'{round((res[i]-low[i])*100/low[i], 3)}%')\n",
        "\n",
        "print(f'{round(soma/len(res),3)} %')"
      ],
      "metadata": {
        "colab": {
          "base_uri": "https://localhost:8080/"
        },
        "id": "qcKIh3zjqDLM",
        "outputId": "6d74945a-372d-44d1-c56f-55c40ca1a196"
      },
      "execution_count": 20,
      "outputs": [
        {
          "output_type": "stream",
          "name": "stdout",
          "text": [
            "-0.49%\n",
            "-0.824%\n",
            "-1.069%\n",
            "-1.225%\n",
            "-1.347%\n",
            "-0.192%\n",
            "-0.067%\n",
            "-0.367%\n",
            "-1.601%\n",
            "-0.17%\n",
            "0.735 %\n"
          ]
        }
      ]
    },
    {
      "cell_type": "code",
      "source": [
        "#planilha\n",
        "soma1 = 0\n",
        "\n",
        "for i in range(len(res)):\n",
        "  soma1 = soma1 + abs((res1[i]-low[i])*100/low[i])\n",
        "  print(f'{round((res1[i]-low[i])*100/low[i], 3)}%')\n",
        "\n",
        "print(f'{round(soma1/len(res),3)} %')"
      ],
      "metadata": {
        "colab": {
          "base_uri": "https://localhost:8080/"
        },
        "id": "fjIL8r87q-Vf",
        "outputId": "e28e47b0-631f-4100-af42-785e0341df1f"
      },
      "execution_count": 21,
      "outputs": [
        {
          "output_type": "stream",
          "name": "stdout",
          "text": [
            "0.301%\n",
            "0.105%\n",
            "-0.002%\n",
            "-0.02%\n",
            "-0.573%\n",
            "0.603%\n",
            "0.742%\n",
            "0.457%\n",
            "-0.742%\n",
            "0.764%\n",
            "0.431 %\n"
          ]
        }
      ]
    },
    {
      "cell_type": "code",
      "source": [
        "#sklearn\n",
        "soma2 = 0\n",
        "\n",
        "for i in range(len(res)):\n",
        "  soma2 = soma2 + abs((res2[i]-low[i])*100/low[i])\n",
        "  print(f'{round((res2[i]-low[i])*100/low[i], 3)}%')\n",
        "\n",
        "print(f'{round(soma2/len(res),3)} %')"
      ],
      "metadata": {
        "colab": {
          "base_uri": "https://localhost:8080/"
        },
        "id": "VP9So9LLrBb2",
        "outputId": "fa8b9139-a8e2-4444-9bd2-e2693199ba15"
      },
      "execution_count": 22,
      "outputs": [
        {
          "output_type": "stream",
          "name": "stdout",
          "text": [
            "0.186%\n",
            "0.032%\n",
            "-0.025%\n",
            "0.013%\n",
            "-0.724%\n",
            "0.412%\n",
            "0.529%\n",
            "0.223%\n",
            "-1.02%\n",
            "0.426%\n",
            "0.359 %\n"
          ]
        }
      ]
    },
    {
      "cell_type": "code",
      "source": [
        "plt.figure(figsize=(12, 8))\n",
        "\n",
        "plt.plot(iwb, res, label = 'statsmodel', marker = '.', color = 'r', linewidth=1.5)\n",
        "plt.plot(iwb, res1, marker = '.', label = 'planilha', color = 'g', linewidth=1.5)\n",
        "plt.plot(iwb, res2, marker = '.', label = 'sklearn', color = 'b', linewidth=1.5)\n",
        "plt.plot(iwb, low, marker = '.', label = 'máquina', color = 'black', linewidth=1.5, ls = '--')\n",
        "plt.legend()\n",
        "\n",
        "plt.xlabel('IWB [C]')\n",
        "plt.ylabel('CAP')\n",
        "plt.grid()"
      ],
      "metadata": {
        "colab": {
          "base_uri": "https://localhost:8080/",
          "height": 497
        },
        "id": "eO9kihz-ukA6",
        "outputId": "7cbe93ac-d4fa-4c32-c453-4f6acbbcfcce"
      },
      "execution_count": 23,
      "outputs": [
        {
          "output_type": "display_data",
          "data": {
            "text/plain": [
              "<Figure size 864x576 with 1 Axes>"
            ],
            "image/png": "[encoded data removed]"
          },
          "metadata": {
            "needs_background": "light"
          }
        }
      ]
    }
  ]
}
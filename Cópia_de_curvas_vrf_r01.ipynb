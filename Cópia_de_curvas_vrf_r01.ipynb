{
  "nbformat": 4,
  "nbformat_minor": 0,
  "metadata": {
    "colab": {
      "name": "Cópia de curvas_vrf_r01.ipynb",
      "provenance": [],
      "authorship_tag": "ABX9TyOvYuwfQsZHbd3NdSl5xhZd",
      "include_colab_link": true
    },
    "kernelspec": {
      "name": "python3",
      "display_name": "Python 3"
    },
    "language_info": {
      "name": "python"
    }
  },
  "cells": [
    {
      "cell_type": "markdown",
      "metadata": {
        "id": "view-in-github",
        "colab_type": "text"
      },
      "source": [
        "<a href=\"https://colab.research.google.com/github/Petinelli-Inc/curvas_vrf/blob/main/C%C3%B3pia_de_curvas_vrf_r01.ipynb\" target=\"_parent\"><img src=\"https://colab.research.google.com/assets/colab-badge.svg\" alt=\"Open In Colab\"/></a>"
      ]
    },
    {
      "cell_type": "code",
      "execution_count": null,
      "metadata": {
        "id": "iAKysoQ59wNG"
      },
      "outputs": [],
      "source": [
        "import pandas as pd\n",
        "import numpy as np"
      ]
    },
    {
      "cell_type": "code",
      "source": [
        "print(\"Olá\")"
      ],
      "metadata": {
        "id": "G--YP2-Aom42"
      },
      "execution_count": null,
      "outputs": []
    }
  ]
}